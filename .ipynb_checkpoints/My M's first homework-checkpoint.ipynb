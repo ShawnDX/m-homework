{
 "cells": [
  {
   "cell_type": "code",
   "execution_count": 2,
   "metadata": {},
   "outputs": [
    {
     "name": "stdout",
     "output_type": "stream",
     "text": [
      "Hi\n",
      "How are you?\n"
     ]
    }
   ],
   "source": [
    "# Question 1\n",
    "\n",
    "def stringprint(string_argument):\n",
    "    # your code goes here\n",
    "    \n",
    "    print(string_argument)\n",
    "    \n",
    "# The following is the test code\n",
    "# Please do not submit it in the homework system\n",
    "\n",
    "stringprint('Hi')\n",
    "stringprint('How are you?')"
   ]
  },
  {
   "cell_type": "code",
   "execution_count": 3,
   "metadata": {},
   "outputs": [
    {
     "name": "stdout",
     "output_type": "stream",
     "text": [
      "What is your name?Zhang Teng\n",
      "Hello Zhang Teng!\n"
     ]
    }
   ],
   "source": [
    "# Question 2\n",
    "\n",
    "def hello_user():\n",
    "    # you can ask for user's name as below and store it in the variable 'username'\n",
    "    username = input(\"What is your name?\")\n",
    "    print('Hello ' + username + '!')\n",
    "    \n",
    "# The following is the test code\n",
    "# Please do not submit it in the homework system\n",
    "\n",
    "hello_user()"
   ]
  },
  {
   "cell_type": "code",
   "execution_count": 4,
   "metadata": {},
   "outputs": [
    {
     "data": {
      "text/plain": [
       "5238.819051174033"
      ]
     },
     "execution_count": 4,
     "metadata": {},
     "output_type": "execute_result"
    }
   ],
   "source": [
    "# Question 3\n",
    "\n",
    "def calculation_number1():\n",
    "    # insert your code here\n",
    "    answer = (0.87 + 3.14 + 0.63 + 297) ** (3 / 2)\n",
    "    return(answer)\n",
    "\n",
    "# Attention!!!\n",
    "# In this function, we use \"return\" not \"print\"!\n",
    "# Although the output results in jupyter notebook seem to be the same, it is actually a completely different way.\n",
    "    \n",
    "# The following is the test code\n",
    "# Please do not submit it in the homework system\n",
    "\n",
    "calculation_number1()"
   ]
  },
  {
   "cell_type": "code",
   "execution_count": 6,
   "metadata": {},
   "outputs": [
    {
     "name": "stdout",
     "output_type": "stream",
     "text": [
      "65\n"
     ]
    }
   ],
   "source": [
    "# Question 4\n",
    "\n",
    "# \\[\\sum_{i=1}^{10}(i+1)\\] means from i=1 to 10, find the sum of (i+1).\n",
    "\n",
    "def easy_sum():\n",
    "    total = 0\n",
    "    # insert a for loop here\n",
    "    for i in range(1, 11):\n",
    "        total += (i+1)\n",
    "    \n",
    "    print(total)\n",
    "    \n",
    "# The following is the test code\n",
    "# Please do not submit it in the homework system\n",
    "easy_sum()"
   ]
  },
  {
   "cell_type": "code",
   "execution_count": 12,
   "metadata": {},
   "outputs": [
    {
     "name": "stdout",
     "output_type": "stream",
     "text": [
      "The diameter of the circle is 4.\n",
      "The circumference of the circle is 12.57.\n",
      "The area of the circle is 12.57.\n"
     ]
    }
   ],
   "source": [
    "# Question 5 \n",
    "\n",
    "# The value of Pi is needed here, so import math lib\n",
    "\n",
    "import math\n",
    "\n",
    "def circle_properties(r):\n",
    "    \n",
    "    num_pi = math.pi\n",
    "    \n",
    "    diameter = round(2 * r,2)\n",
    "    circumference = round(2 * num_pi * r, 2)\n",
    "    area = round(r **2 * num_pi, 2) \n",
    "    \n",
    "    print('The diameter of the circle is ' + str(diameter) + '.')\n",
    "    print('The circumference of the circle is ' + str(circumference) + '.')\n",
    "    print('The area of the circle is ' + str(area) + '.')\n",
    "          \n",
    "    # The following printing method is different from the homework answer.\n",
    "    # Formatted printing is used here. \n",
    "    # For related information, see the link below\n",
    "    # https://www.imooc.com/wenda/detail/605746\n",
    "    \n",
    "    # You can uncomment and run the code to see the result \n",
    "\n",
    "    # print('The diameter of the circle is {}.'.format(round(diameter,2)))\n",
    "    # print('The circumference of the circle is {}.'.format(round(circumference,2)))\n",
    "    # print('The area of the circle is {}.'.format(round(area,2)))\n",
    "    \n",
    "\n",
    "# The following is the test code\n",
    "# Please do not submit it in the homework system\n",
    "\n",
    "circle_properties(2)\n",
    "    "
   ]
  },
  {
   "cell_type": "code",
   "execution_count": 11,
   "metadata": {},
   "outputs": [
    {
     "data": {
      "text/plain": [
       "2.598625"
      ]
     },
     "execution_count": 11,
     "metadata": {},
     "output_type": "execute_result"
    }
   ],
   "source": [
    "# Question 6\n",
    "\n",
    "def y_calculation():\n",
    "    \n",
    "    # Attention\n",
    "    # In the question:\n",
    "    # the function should not take any inputs and the value of x=0.45 is set inside the function\n",
    "    x = 0.45\n",
    "    \n",
    "    y = x **3 + 3 * x ** 2 + 2 * x + 1\n",
    "    \n",
    "    # The title requires \"return\"\n",
    "    return(y)\n",
    "\n",
    "# The following is the test code\n",
    "# Please do not submit it in the homework system\n",
    "\n",
    "y_calculation()"
   ]
  },
  {
   "cell_type": "code",
   "execution_count": 13,
   "metadata": {},
   "outputs": [
    {
     "name": "stdout",
     "output_type": "stream",
     "text": [
      "[0, 1, 1, 2, 3, 5, 8, 13, 21, 34, 55, 89, 144, 233, 377, 610, 987, 1597, 2584, 4181]\n"
     ]
    }
   ],
   "source": [
    "# Question 7 \n",
    "\n",
    "def fibonacci():\n",
    "    \n",
    "    fib = [0]*20\n",
    "    \n",
    "    for i in range(20):\n",
    "        \n",
    "        # The definition of Fibonacci sequence is that the first digit is 0, the second digit is 1.\n",
    "      \n",
    "        if i == 0 or i ==1:\n",
    "            fib[i] = i\n",
    "        \n",
    "        # the third digit and after is the sum of the first two\n",
    "        else:\n",
    "            fib[i] = fib[i-1] + fib[i-2]\n",
    "\n",
    "    print(fib)\n",
    "\n",
    "# The following is the test code\n",
    "# Please do not submit it in the homework system\n",
    "\n",
    "fibonacci()"
   ]
  },
  {
   "cell_type": "code",
   "execution_count": 21,
   "metadata": {},
   "outputs": [
    {
     "name": "stdout",
     "output_type": "stream",
     "text": [
      "3.5, 5.55, 8.2\n"
     ]
    }
   ],
   "source": [
    "# Question 8\n",
    "\n",
    "def floats(a, b, c):\n",
    "    \n",
    "    # If a is greater than b, then swap a and b\n",
    "    if (a > b):\n",
    "        temp = a\n",
    "        a = b\n",
    "        b = temp\n",
    "    # After executing the above code, a must be less than b,\n",
    "    # but the relationship between b and c, a and c is unknown\n",
    "    \n",
    "    # Compare a and c , if a is greater than c at this time, then swap a and c\n",
    "    if (a > c):\n",
    "        temp = a\n",
    "        a = c\n",
    "        c = temp\n",
    "    # After executing the above code, a must be the smallest among a, b, and c\n",
    "    # but the relationship between b and c is unknown\n",
    "    \n",
    "    # Compare b and c , if b is greater than c at this time, then swap b and c\n",
    "    if (b > c):\n",
    "        temp = b\n",
    "        b = c\n",
    "        c = temp\n",
    "    # At this point, b must be less than c, a, b, and c have become an increasing order\n",
    "    \n",
    "    print('{}, {}, {}'.format(a, b, c))\n",
    "\n",
    "    # This is the simplest sorting algorithm, you can think about how to write descending order, or is there a faster way\n",
    "\n",
    "\n",
    "# The following is the test code\n",
    "# Please do not submit it in the homework system\n",
    "\n",
    "floats(5.55, 8.2, 3.5)"
   ]
  },
  {
   "cell_type": "code",
   "execution_count": 24,
   "metadata": {},
   "outputs": [
    {
     "name": "stdout",
     "output_type": "stream",
     "text": [
      "Please input your speed in miles per hour:60\n",
      "60.0 mph = 26.82 m/s\n"
     ]
    }
   ],
   "source": [
    "# Question 9\n",
    "\n",
    "def miles_to_meters():\n",
    "    speed_miles = input(\"Please input your speed in miles per hour:\")\n",
    "    # Insert your code here\n",
    "    \n",
    "    # there are 1609.34 meters in a miles\n",
    "    # there are 3600 seconds in a hour\n",
    "    \n",
    "    # Because the input obtained by using the input function is of string type, \n",
    "    # you need to convert the data type to a numeric type to participate in the calculation\n",
    "    \n",
    "    # Because the speed may be decimal, the floating  type is used\n",
    "    speed_miles = round(float(speed_miles), 2)\n",
    "    speed_meter = round(speed_miles * 1609.34 / 3600, 2)\n",
    "    \n",
    "    print('{} mph = {} m/s'.format(speed_miles, speed_meter))\n",
    "\n",
    "# The following is the test code\n",
    "# Please do not submit it in the homework system\n",
    "miles_to_meters()"
   ]
  },
  {
   "cell_type": "code",
   "execution_count": 2,
   "metadata": {},
   "outputs": [
    {
     "data": {
      "text/plain": [
       "1.0"
      ]
     },
     "execution_count": 2,
     "metadata": {},
     "output_type": "execute_result"
    }
   ],
   "source": [
    "import math\n",
    "math.fabs(1-2)"
   ]
  },
  {
   "cell_type": "code",
   "execution_count": null,
   "metadata": {},
   "outputs": [],
   "source": [
    "n = 0\n",
    "denominator = 1\n",
    "sum = 1\n",
    "\n",
    "while math.fabs(sum - math.e) > 0.000001:\n",
    "    n += 1\n",
    "    denominator *= n\n",
    "    sum += 1/denominator\n",
    "\n",
    "    "
   ]
  }
 ],
 "metadata": {
  "kernelspec": {
   "display_name": "Python 3",
   "language": "python",
   "name": "python3"
  },
  "language_info": {
   "codemirror_mode": {
    "name": "ipython",
    "version": 3
   },
   "file_extension": ".py",
   "mimetype": "text/x-python",
   "name": "python",
   "nbconvert_exporter": "python",
   "pygments_lexer": "ipython3",
   "version": "3.8.5"
  }
 },
 "nbformat": 4,
 "nbformat_minor": 4
}
