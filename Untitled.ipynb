{
 "cells": [
  {
   "cell_type": "code",
   "execution_count": 18,
   "metadata": {},
   "outputs": [],
   "source": [
    "import numpy as np"
   ]
  },
  {
   "cell_type": "code",
   "execution_count": 3,
   "metadata": {},
   "outputs": [
    {
     "data": {
      "text/plain": [
       "(array([[2., 2., 2., 2.],\n",
       "        [2., 2., 2., 2.]]),\n",
       " array([[1., 0., 0., 0.],\n",
       "        [0., 1., 0., 0.],\n",
       "        [0., 0., 1., 0.],\n",
       "        [0., 0., 0., 1.]]),\n",
       " array([0.85029041, 0.3927336 , 0.3655833 , 0.92306363]))"
      ]
     },
     "execution_count": 3,
     "metadata": {},
     "output_type": "execute_result"
    }
   ],
   "source": [
    "A = np.ones((2,4)) * 2\n",
    "B = np.eye(4)\n",
    "v = np.array([0.85029041, 0.3927336, 0.3655833, 0.92306363])\n",
    "A,B,v"
   ]
  },
  {
   "cell_type": "code",
   "execution_count": 4,
   "metadata": {},
   "outputs": [
    {
     "data": {
      "text/plain": [
       "((2, 4), (4, 4), (4,))"
      ]
     },
     "execution_count": 4,
     "metadata": {},
     "output_type": "execute_result"
    }
   ],
   "source": [
    "A.shape, B.shape, v.shape"
   ]
  },
  {
   "cell_type": "code",
   "execution_count": 5,
   "metadata": {},
   "outputs": [
    {
     "data": {
      "text/plain": [
       "(array([0.85029041, 0.3927336 , 0.3655833 , 0.92306363]),\n",
       " array([0.85029041, 0.3927336 , 0.3655833 , 0.92306363]))"
      ]
     },
     "execution_count": 5,
     "metadata": {},
     "output_type": "execute_result"
    }
   ],
   "source": [
    "np.matmul(B,v), np.matmul(v,B)"
   ]
  },
  {
   "cell_type": "code",
   "execution_count": 6,
   "metadata": {},
   "outputs": [
    {
     "data": {
      "text/plain": [
       "array([0., 0., 0., 0.])"
      ]
     },
     "execution_count": 6,
     "metadata": {},
     "output_type": "execute_result"
    }
   ],
   "source": [
    "v.T-v"
   ]
  },
  {
   "cell_type": "code",
   "execution_count": 17,
   "metadata": {},
   "outputs": [],
   "source": [
    "A = (1.05 + 1)* np.random.random(2000*2000).reshape(2000, 2000) - 1"
   ]
  },
  {
   "cell_type": "code",
   "execution_count": 20,
   "metadata": {},
   "outputs": [
    {
     "data": {
      "text/plain": [
       "array([[ 0.82506984, -0.37198957, -0.97952442, ...,  0.79643534,\n",
       "         0.56899204,  0.45086071],\n",
       "       [ 0.21339876,  0.67544433,  0.54423884, ..., -0.1873029 ,\n",
       "         0.63815642,  0.00101946],\n",
       "       [ 0.02483831,  0.00980497, -0.82975149, ...,  0.94300158,\n",
       "         0.58318884,  0.38685833],\n",
       "       ...,\n",
       "       [-0.45032393,  0.29797161,  0.96083108, ..., -0.95633117,\n",
       "        -0.43062447, -0.929072  ],\n",
       "       [ 0.20684674,  0.06580839,  0.36781607, ..., -0.91772538,\n",
       "         0.99462177, -0.36890393],\n",
       "       [ 0.14845315,  0.64358605,  0.41906905, ..., -0.86354355,\n",
       "        -0.33143629, -0.26112595]])"
      ]
     },
     "execution_count": 20,
     "metadata": {},
     "output_type": "execute_result"
    }
   ],
   "source": [
    "A = ((1.05 + 1)* np.random.random(2000*2000) - 1).reshape(2000, 2000)\n"
   ]
  },
  {
   "cell_type": "code",
   "execution_count": null,
   "metadata": {},
   "outputs": [],
   "source": []
  }
 ],
 "metadata": {
  "kernelspec": {
   "display_name": "Python 3",
   "language": "python",
   "name": "python3"
  },
  "language_info": {
   "codemirror_mode": {
    "name": "ipython",
    "version": 3
   },
   "file_extension": ".py",
   "mimetype": "text/x-python",
   "name": "python",
   "nbconvert_exporter": "python",
   "pygments_lexer": "ipython3",
   "version": "3.8.5"
  }
 },
 "nbformat": 4,
 "nbformat_minor": 4
}
