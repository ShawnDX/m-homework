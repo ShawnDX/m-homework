{
 "cells": [
  {
   "cell_type": "code",
   "execution_count": 4,
   "metadata": {},
   "outputs": [
    {
     "name": "stdout",
     "output_type": "stream",
     "text": [
      "The compositiuon g(f(x)) when x =5.0 equals 1.0318616210077654\n"
     ]
    }
   ],
   "source": [
    "  import math\n",
    "\n",
    "def f(x): \n",
    "    f = x **2 + 3 * x +3\n",
    "    return f\n",
    "\n",
    "def g(x):\n",
    "    return math.sin(x) + 2 * (x - 2) / (x + 1)\n",
    "\n",
    "def h(x):\n",
    "    return math.sinh(x + 1) - math.exp(2 * x)\n",
    "\n",
    "def composition(outer_function, inter_function, value):\n",
    "    return outer_function(inter_function(value))\n",
    "\n",
    "print(\"The compositiuon g(f(x)) when x =5.0 equals \" + str(composition(g, f, 5.0)) )"
   ]
  },
  {
   "cell_type": "code",
   "execution_count": 3,
   "metadata": {},
   "outputs": [
    {
     "name": "stdout",
     "output_type": "stream",
     "text": [
      "1.0318616210077654\n",
      "2.108535280731186\n",
      "2928.6291137660287\n",
      "-2.8337156473873266\n"
     ]
    }
   ],
   "source": [
    "print(g(f(5.0)))\n",
    "print(g(h(5.0)))\n",
    "print(f(h(2.1)))\n",
    "print(h(g(f(2*math.pi))))"
   ]
  },
  {
   "cell_type": "code",
   "execution_count": null,
   "metadata": {},
   "outputs": [],
   "source": []
  }
 ],
 "metadata": {
  "kernelspec": {
   "display_name": "Python 3",
   "language": "python",
   "name": "python3"
  },
  "language_info": {
   "codemirror_mode": {
    "name": "ipython",
    "version": 3
   },
   "file_extension": ".py",
   "mimetype": "text/x-python",
   "name": "python",
   "nbconvert_exporter": "python",
   "pygments_lexer": "ipython3",
   "version": "3.8.3"
  }
 },
 "nbformat": 4,
 "nbformat_minor": 4
}
