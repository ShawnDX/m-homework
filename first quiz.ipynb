{
 "cells": [
  {
   "cell_type": "code",
   "execution_count": 1,
   "metadata": {},
   "outputs": [
    {
     "output_type": "stream",
     "name": "stdout",
     "text": [
      "[2, 2, 3]\n[0, 0, 4]\n"
     ]
    }
   ],
   "source": [
    "# Question 1\n",
    "def my_function(x):\n",
    "    x = int(x)\n",
    "    return [x%3, x%5, x%7]\n",
    "\n",
    "print(my_function(17))\n",
    "print(my_function(165.1))"
   ]
  },
  {
   "cell_type": "code",
   "execution_count": 9,
   "metadata": {},
   "outputs": [
    {
     "name": "stdout",
     "output_type": "stream",
     "text": [
      "15.0\n",
      "0.0\n"
     ]
    }
   ],
   "source": [
    "# Question 2\n",
    "def temp_convert(t_f):\n",
    "    \n",
    "    print(round(5 * (t_f - 32) / 9, 2))\n",
    "\n",
    "temp_convert(59)\n",
    "temp_convert(32)"
   ]
  },
  {
   "cell_type": "code",
   "execution_count": 23,
   "metadata": {},
   "outputs": [
    {
     "name": "stdout",
     "output_type": "stream",
     "text": [
      "[2, 4]\n",
      "[3, 5, 7, 9, 11]\n"
     ]
    }
   ],
   "source": [
    "# Question 3\n",
    "def every_other_num(x1, x2):\n",
    "    return list(range(x1, x2 + 1, 2))\n",
    "\n",
    "print(every_other_num(2,4))\n",
    "print(every_other_num(3,11))"
   ]
  },
  {
   "cell_type": "code",
   "execution_count": 35,
   "metadata": {},
   "outputs": [
    {
     "name": "stdout",
     "output_type": "stream",
     "text": [
      "1 0 0 0 0 0 0\n"
     ]
    }
   ],
   "source": [
    "# Question 4\n",
    "def time_converter(milliseconds):\n",
    "    \n",
    "    years = int(milliseconds / (12 * 30 * 24 * 60 * 60 * 1000))\n",
    "    left_milliseconds_y = milliseconds - years * 12 * 30 * 24 * 60 * 60 * 1000\n",
    "    \n",
    "    months = int(left_milliseconds_y / (30 * 24 * 60 * 60 * 1000))\n",
    "    left_milliseconds_m = left_milliseconds_y - months * 30 * 24 * 60 * 60 * 1000\n",
    "    \n",
    "    days = int(left_milliseconds_m / (24 * 60 * 60 * 1000))\n",
    "    left_milliseconds_d = left_milliseconds_m - days * 24 * 60 * 60 * 1000\n",
    "    \n",
    "    hours = int(left_milliseconds_d / (60 * 60 * 1000))\n",
    "    left_milliseconds_h = left_milliseconds_d - hours * 60 * 60 * 1000\n",
    "    \n",
    "    mins = int(left_milliseconds_h / (60 * 1000))\n",
    "    left_milliseconds_mi = left_milliseconds_h - mins  * 60 * 1000\n",
    "    \n",
    "    secs = int(left_milliseconds_mi / 1000)\n",
    "    \n",
    "    ms = left_milliseconds_mi - 1000 * secs\n",
    "    \n",
    "\n",
    "time_converter(31104000000)"
   ]
  },
  {
   "cell_type": "code",
   "execution_count": 29,
   "metadata": {},
   "outputs": [
    {
     "name": "stdout",
     "output_type": "stream",
     "text": [
      "10 years\n"
     ]
    }
   ],
   "source": [
    "years = \n",
    "print(f'{years} years')"
   ]
  },
  {
   "cell_type": "code",
   "execution_count": null,
   "metadata": {},
   "outputs": [],
   "source": []
  }
 ],
 "metadata": {
  "kernelspec": {
   "display_name": "Python 3",
   "language": "python",
   "name": "python3"
  },
  "language_info": {
   "codemirror_mode": {
    "name": "ipython",
    "version": 3
   },
   "file_extension": ".py",
   "mimetype": "text/x-python",
   "name": "python",
   "nbconvert_exporter": "python",
   "pygments_lexer": "ipython3",
   "version": "3.8.5-final"
  }
 },
 "nbformat": 4,
 "nbformat_minor": 4
}